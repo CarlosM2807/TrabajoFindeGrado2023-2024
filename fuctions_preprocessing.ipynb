{
 "cells": [
  {
   "cell_type": "code",
   "execution_count": 1,
   "id": "5ce105e5-b6d2-48f0-bb0c-b8b3908bf6de",
   "metadata": {
    "tags": []
   },
   "outputs": [],
   "source": [
    "from PIL import Image\n",
    "import os\n",
    "import cv2\n",
    "import shutil\n",
    "import numpy as np"
   ]
  },
  {
   "cell_type": "markdown",
   "id": "38d9a66a-4f6b-4064-9217-bf337e23af6c",
   "metadata": {},
   "source": [
    "## Rename imágenes originales"
   ]
  },
  {
   "cell_type": "code",
   "execution_count": 1,
   "id": "e9fd61f8-58ff-4540-aff5-5ac731d631ce",
   "metadata": {
    "tags": []
   },
   "outputs": [],
   "source": [
    "def rename_img(carpeta_origen, carpeta_destino):\n",
    "    # Crea la carpeta de destino si no existe\n",
    "    if not os.path.exists(carpeta_destino):\n",
    "        os.makedirs(carpeta_destino)\n",
    "\n",
    "    # Lista de nombres de archivos en la carpeta de origen\n",
    "    archivos = sorted(os.listdir(carpeta_origen))\n",
    "\n",
    "    # Contador para el nuevo nombre\n",
    "    contador = 0\n",
    "\n",
    "    # Iterar sobre los archivos y renombrarlos, de forma consecutiva\n",
    "    for archivo in archivos:\n",
    "        if archivo.endswith((\".jpg\", \".png\")):\n",
    "            nuevo_nombre = f\"{contador:03d}.png\"\n",
    "            ruta_origen = os.path.join(carpeta_origen, archivo)\n",
    "            ruta_destino = os.path.join(carpeta_destino, nuevo_nombre)\n",
    "            shutil.copy(ruta_origen, ruta_destino)\n",
    "            contador += 1\n",
    "\n",
    "    print(\"Imágenes renombradas y copiadas exitosamente.\")"
   ]
  },
  {
   "cell_type": "markdown",
   "id": "4b77fd4e-2663-4be3-81a6-80b52e89d45d",
   "metadata": {},
   "source": [
    "## Redimensión y mapeo"
   ]
  },
  {
   "cell_type": "code",
   "execution_count": 2,
   "id": "2d9cca22-b957-4d05-a36b-a8ac586e0aa5",
   "metadata": {
    "tags": []
   },
   "outputs": [],
   "source": [
    "def process_images(origen_images, origen_label, idx_train, idx_test, dest_train_images, dest_train_label, dest_test_images, dest_test_label, map_pixels_intermediate, map_pixels_final):\n",
    "    \n",
    "    # Creamos las rutas si no existen\n",
    "    for carpeta_destino in [dest_train_images, dest_train_label, dest_test_images, dest_test_label]:\n",
    "        if not os.path.exists(carpeta_destino):\n",
    "            os.makedirs(carpeta_destino)\n",
    "\n",
    "    # Si el indice esta en train, va para la carpeta train sino, para test\n",
    "    for i in range(400):\n",
    "        if i in idx_train:\n",
    "            dest_images = dest_train_images\n",
    "            dest_labels = dest_train_label\n",
    "        elif i in idx_test:\n",
    "            dest_images = dest_test_images\n",
    "            dest_labels = dest_test_label\n",
    "        else:\n",
    "            continue\n",
    "\n",
    "        # Redimensionar y guardar imagen original\n",
    "        img = Image.open(os.path.join(origen_images, f\"{i:03d}.png\"))\n",
    "        img = img.resize((256,256), Image.NEAREST)\n",
    "        img.save(os.path.join(dest_images,f\"{i:03d}.png\"))\n",
    "\n",
    "        mask = Image.open(os.path.join(origen_label,f\"{i:03d}.png\"))\n",
    "        mask_np = np.array(mask)\n",
    "\n",
    "        # Mapeo\n",
    "        for k,v in map_pixels_intermediate.items():\n",
    "            mask_np[mask_np==k] = v\n",
    "\n",
    "        for k,v in map_pixels_final.items():\n",
    "            mask_np[mask_np==k] = v\n",
    "\n",
    "        mask_remap = Image.fromarray(mask_np)\n",
    "        mask_remap = mask_remap.resize((256,256), Image.NEAREST)\n",
    "        mask_remap.save(os.path.join(dest_labels,f\"{i:03d}.png\"))"
   ]
  },
  {
   "cell_type": "markdown",
   "id": "98cf2c1b-eb1c-40c4-9c50-9d91e3c376f9",
   "metadata": {},
   "source": [
    "## Data Augmentation "
   ]
  },
  {
   "cell_type": "code",
   "execution_count": 3,
   "id": "bbc6bc98-b4e6-445f-b75e-a439f74a06b4",
   "metadata": {
    "tags": []
   },
   "outputs": [],
   "source": [
    "def transform_images(image_dir, is_mask):\n",
    "    # Lista de ángulos para la rotación\n",
    "    angles = [45, 90, 135, 180, 225, 270, 315]\n",
    "\n",
    "    # Recorre todas las imágenes en el directorio dado\n",
    "    for filename in os.listdir(image_dir):\n",
    "        if filename.endswith(\".png\"):\n",
    "            \n",
    "            number = filename.split(\".\")[0]\n",
    "            \n",
    "            # Carga imagen\n",
    "            img = cv2.imread(os.path.join(image_dir, filename))\n",
    "\n",
    "            # Crea y guarda imagen espejo\n",
    "            img_mirror = cv2.flip(img, 1)\n",
    "            cv2.imwrite(os.path.join(image_dir, f\"{number}_mirror.png\"), img_mirror)\n",
    "\n",
    "            # Crea y guarda imágenes rotadas\n",
    "            for angle in angles:\n",
    "                \n",
    "                # Si es mascara aplicamos INERT_NEAREST para no variar los valores de los pixeles (pertenecen a clases) y elige el pixel mas cercano\n",
    "                # Si no lo es aplicamos INTER_LINEAR hace que la redimension sea mas suave y con detalle\n",
    "                if is_mask:\n",
    "                    interpolation = cv2.INTER_NEAREST\n",
    "                else:\n",
    "                    interpolation = cv2.INTER_LINEAR\n",
    "                \n",
    "                M = cv2.getRotationMatrix2D((int(img.shape[1]/2), int(img.shape[0]/2)), angle, 1)\n",
    "                img_rot = cv2.warpAffine(img, M, (img.shape[1], img.shape[0]), flags=interpolation, borderMode=cv2.BORDER_REFLECT)\n",
    "                cv2.imwrite(os.path.join(image_dir, f\"{number}_rot{angle}.png\"), img_rot)\n",
    "\n",
    "                M_mirror = cv2.getRotationMatrix2D((int(img_mirror.shape[1]/2), int(img_mirror.shape[0]/2)), angle, 1)\n",
    "                img_mirror_rot = cv2.warpAffine(img_mirror, M_mirror, (img_mirror.shape[1], img_mirror.shape[0]), flags=interpolation, borderMode=cv2.BORDER_REFLECT)\n",
    "                cv2.imwrite(os.path.join(image_dir, f\"{number}_mirror_rot{angle}.png\"), img_mirror_rot)\n",
    "\n",
    "                # Ajustar brillo y contraste, si es una mascara no aplicamos cambios, para no variar los valores de los pixeles\n",
    "                if is_mask == False: \n",
    "                    img_bc = cv2.convertScaleAbs(img, alpha=1.3, beta=10)\n",
    "                elif is_mask == True:\n",
    "                    img_bc = img\n",
    "                \n",
    "                cv2.imwrite(os.path.join(image_dir, f\"{number}_bc.png\"), img_bc)\n",
    "\n",
    "                # Ajustar brillo y contraste para la imagen espejo, igual que antes si es una mascara no aplicamos transformacion\n",
    "                if is_mask == False:\n",
    "                    img_mirror_bc = cv2.convertScaleAbs(img_mirror, alpha=1.3, beta=10)\n",
    "                elif is_mask == True:\n",
    "                    img_mirror_bc = img_mirror\n",
    "                        \n",
    "                cv2.imwrite(os.path.join(image_dir, f\"{number}_mirror_bc.png\"), img_mirror_bc)\n",
    "\n",
    "                # Crear y guardar imágenes rotadas para la imagen con brillo y contraste ajustados\n",
    "                for angle in angles:\n",
    "                    \n",
    "                    # Rotamos las imagenes con el brillo y contraste ajustados\n",
    "                    M = cv2.getRotationMatrix2D((int(img_bc.shape[1]/2), int(img_bc.shape[0]/2)), angle, 1)\n",
    "                    \n",
    "                    img_bc_rot = cv2.warpAffine(img_bc, M, (img_bc.shape[1], img_bc.shape[0]),flags=interpolation, borderMode=cv2.BORDER_REFLECT)\n",
    "                    \n",
    "                    cv2.imwrite(os.path.join(image_dir,f\"{number}_bc_rot{angle}.png\"),img_bc_rot)\n",
    "\n",
    "                    # Rotamos las imagenes espejo con el brillo y contraste ajustados\n",
    "                    M_mirror_bc = cv2.getRotationMatrix2D((int(img_mirror_bc.shape[1] / 2),int(img_mirror_bc.shape[0] / 2)),angle,1)\n",
    "                    \n",
    "                    img_mirror_bc_rot = cv2.warpAffine(img_mirror_bc,M_mirror_bc,(img_mirror_bc.shape[1],img_mirror_bc.shape[0]),flags=interpolation,borderMode=cv2.BORDER_REFLECT)\n",
    "                    \n",
    "                    cv2.imwrite(os.path.join(image_dir,f\"{number}_mirror_bc_rot{angle}.png\"),img_mirror_bc_rot)"
   ]
  },
  {
   "cell_type": "markdown",
   "id": "ef544192-69a6-4b5a-bea8-d0ecfc56665a",
   "metadata": {},
   "source": [
    "## Comprobamos concordancia de nombres despues de las transformaciones"
   ]
  },
  {
   "cell_type": "code",
   "execution_count": 4,
   "id": "5eadd4db-e703-4d3d-8c34-8a640a00c662",
   "metadata": {
    "tags": []
   },
   "outputs": [],
   "source": [
    "# Comprobamos correlacion de archivos imagen - mascara\n",
    "def compare_mask_img(dir1, dir2):\n",
    "    \n",
    "    # Obtenemos ficheros\n",
    "    archivos_1 = set(os.listdir(dir1))\n",
    "    archivos_2 = set(os.listdir(dir2))\n",
    "    \n",
    "    return archivos_1 == archivos_2"
   ]
  }
 ],
 "metadata": {
  "kernelspec": {
   "display_name": "Python 3 (ipykernel)",
   "language": "python",
   "name": "python3"
  },
  "language_info": {
   "codemirror_mode": {
    "name": "ipython",
    "version": 3
   },
   "file_extension": ".py",
   "mimetype": "text/x-python",
   "name": "python",
   "nbconvert_exporter": "python",
   "pygments_lexer": "ipython3",
   "version": "3.11.5"
  }
 },
 "nbformat": 4,
 "nbformat_minor": 5
}
