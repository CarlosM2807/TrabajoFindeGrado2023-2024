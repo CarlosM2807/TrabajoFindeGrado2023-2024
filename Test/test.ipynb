{
 "cells": [
  {
   "cell_type": "code",
   "execution_count": 5,
   "id": "4cc876e6-c823-4fd2-a509-6d54751b459a",
   "metadata": {
    "tags": []
   },
   "outputs": [],
   "source": [
    "import torch.nn as nn\n",
    "import torch"
   ]
  },
  {
   "cell_type": "code",
   "execution_count": 6,
   "id": "f79a8a70-8c24-441d-a147-96059765b499",
   "metadata": {
    "tags": []
   },
   "outputs": [],
   "source": [
    "# Realiza el entrenamiento de una epoca\n",
    "# Argumentos:\n",
    "#       - model: modelo que queremos entrenar\n",
    "#       - test_dataloader: lotes de prueba\n",
    "#       - loss_criterion: define la funcion de perdida\n",
    "#       - device: cpu o cuda, define si el entrenamiento se hace en la cpu o gpu\n",
    "\n",
    "def validate_unet(model, test_dataloader, loss_criterion, device):\n",
    "    \n",
    "    # Establece el modelo en modo de evaluación\n",
    "    model.eval()  \n",
    "    \n",
    "    # Calcular la precisión\n",
    "    correct = 0\n",
    "    total = 0\n",
    "    \n",
    "    # No tenemos en cuenta el gradiente\n",
    "    with torch.no_grad():\n",
    "        \n",
    "        # Iteramos sobre los lotes de test\n",
    "        for images, masks in test_dataloader:\n",
    "            \n",
    "            # Permuta las dimensiones de las imágenes a (N, C, H, W)\n",
    "            images = images.permute(0, 3, 1, 2)\n",
    "\n",
    "            # Movemos al device las imagenes y las Ground Truth\n",
    "            images = images.to(device, dtype=torch.float)\n",
    "            masks = masks.to(device, dtype=torch.long)\n",
    "            \n",
    "            # El modelo realiza la inferencia para las imagenes del lote\n",
    "            outputs = model(images)\n",
    "            \n",
    "            # predicted --> tensor que contiene la clase predicha con la mayor probabilidad para cada píxel en la salida del modelo\n",
    "            _, predicted = torch.max(outputs.data, 1)\n",
    "            total += masks.nelement()  # Número total de píxeles en la máscara\n",
    "            \n",
    "            # eq: compara elemento a elemento la prediccion con los valores reales de la imagen Ground Truth. generando un tensor de booleanos\n",
    "            # sum: suma los elementos true del tensor, es decir, los aciertos\n",
    "            correct += predicted.eq(masks.data).sum().item()  \n",
    "\n",
    "    accuracy = round((correct / total)*100,2)  # Precisión del modelo\n",
    "\n",
    "    \n",
    "    return accuracy"
   ]
  },
  {
   "cell_type": "code",
   "execution_count": null,
   "id": "3ded5b74-d331-450f-92b9-9414e00388f2",
   "metadata": {},
   "outputs": [],
   "source": []
  },
  {
   "cell_type": "code",
   "execution_count": null,
   "id": "8ff0a124-43f4-4d8f-b76d-77c8c53408aa",
   "metadata": {},
   "outputs": [],
   "source": []
  }
 ],
 "metadata": {
  "kernelspec": {
   "display_name": "Python 3 (ipykernel)",
   "language": "python",
   "name": "python3"
  },
  "language_info": {
   "codemirror_mode": {
    "name": "ipython",
    "version": 3
   },
   "file_extension": ".py",
   "mimetype": "text/x-python",
   "name": "python",
   "nbconvert_exporter": "python",
   "pygments_lexer": "ipython3",
   "version": "3.11.5"
  }
 },
 "nbformat": 4,
 "nbformat_minor": 5
}
