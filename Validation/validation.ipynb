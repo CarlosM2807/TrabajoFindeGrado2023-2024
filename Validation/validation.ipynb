{
 "cells": [
  {
   "cell_type": "code",
   "execution_count": 6,
   "id": "4cc876e6-c823-4fd2-a509-6d54751b459a",
   "metadata": {
    "tags": []
   },
   "outputs": [],
   "source": [
    "import torch.nn as nn\n",
    "import torch"
   ]
  },
  {
   "cell_type": "code",
   "execution_count": 1,
   "id": "f79a8a70-8c24-441d-a147-96059765b499",
   "metadata": {
    "tags": []
   },
   "outputs": [],
   "source": [
    "def validate_unet(model, test_dataloader, criterion, device):\n",
    "    model.eval()  # Establece el modelo en modo de evaluación\n",
    "    \n",
    "    correct = 0\n",
    "    total = 0\n",
    "    \n",
    "    # Inicializa un diccionario para contar los píxeles correctos de cada clase\n",
    "    correct_per_class = {i: 0 for i in range(5)}  # Asume que tienes 5 clases\n",
    "    \n",
    "    with torch.no_grad():\n",
    "        for images, masks in test_dataloader:\n",
    "            \n",
    "            # Permuta las dimensiones de las imágenes a (N, C, H, W)\n",
    "            images = images.permute(0, 3, 1, 2)\n",
    "\n",
    "            images, masks = images.to(device, dtype=torch.float), masks.to(device,  dtype=torch.long)\n",
    "            \n",
    "            #  Obtiene la salida del modelo\n",
    "            outputs = model(images)\n",
    "            \n",
    "            # COnvierte las predicciones de probabilidad en valores de la clase\n",
    "            predictions = torch.argmax(outputs, dim=1)\n",
    "            \n",
    "            # Realiza una comparación pixel a pixel entre prediccion y mascara, y nos devulve un tensor de booleanos\n",
    "            matches = predictions == masks.to(device)\n",
    "            \n",
    "            # Suma todos los True, es decir, las coincidencias entre preddición y máscara\n",
    "            correct += torch.sum(matches).item() \n",
    "            \n",
    "            # Nº total de pixeles de todas las mascaras del lote\n",
    "            total += masks.numel()\n",
    "            \n",
    "            # Cuenta los píxeles correctos para cada clase\n",
    "            for i in range(5):  # Asume que tienes 5 clases\n",
    "                correct_per_class[i] += torch.sum((predictions == i) & matches).item()\n",
    "            \n",
    "    model.train() \n",
    "    \n",
    "    # Divide los pixeles bien clasificados entre todos los que hay y asi obtenemos el % de acierto\n",
    "    accuracy = (correct / total) * 100.0\n",
    "    \n",
    "    return accuracy, correct_per_class"
   ]
  },
  {
   "cell_type": "code",
   "execution_count": null,
   "id": "3ded5b74-d331-450f-92b9-9414e00388f2",
   "metadata": {},
   "outputs": [],
   "source": []
  }
 ],
 "metadata": {
  "kernelspec": {
   "display_name": "Python 3 (ipykernel)",
   "language": "python",
   "name": "python3"
  },
  "language_info": {
   "codemirror_mode": {
    "name": "ipython",
    "version": 3
   },
   "file_extension": ".py",
   "mimetype": "text/x-python",
   "name": "python",
   "nbconvert_exporter": "python",
   "pygments_lexer": "ipython3",
   "version": "3.11.5"
  }
 },
 "nbformat": 4,
 "nbformat_minor": 5
}
