{
 "cells": [
  {
   "cell_type": "code",
   "execution_count": 5,
   "id": "4cc876e6-c823-4fd2-a509-6d54751b459a",
   "metadata": {
    "tags": []
   },
   "outputs": [],
   "source": [
    "import torch.nn as nn\n",
    "import torch"
   ]
  },
  {
   "cell_type": "code",
   "execution_count": 6,
   "id": "f79a8a70-8c24-441d-a147-96059765b499",
   "metadata": {
    "tags": []
   },
   "outputs": [],
   "source": [
    "def validate_unet(model, test_dataloader, loss_criterion, device):\n",
    "    model.eval()  # Establece el modelo en modo de evaluación\n",
    "    \n",
    "    # Para calcular la precisión\n",
    "    correct = 0\n",
    "    total = 0\n",
    "    \n",
    "    with torch.no_grad():\n",
    "        for images, masks in test_dataloader:\n",
    "            \n",
    "            # Permuta las dimensiones de las imágenes a (N, C, H, W)\n",
    "            images = images.permute(0, 3, 1, 2)\n",
    "\n",
    "            images, masks = images.to(device, dtype=torch.float), masks.to(device,  dtype=torch.long)\n",
    "            \n",
    "            #  Obtiene la salida del modelo\n",
    "            outputs = model(images)\n",
    "            \n",
    "             # Calcula la precisión, predicted es un tensor que contiene la clase predicha con la mayor probabilidad para cada píxel en la salida del modelo\n",
    "            _, predicted = torch.max(outputs.data, 1)\n",
    "            total += masks.nelement()  # Número total de píxeles en la máscara\n",
    "            correct += predicted.eq(masks.data).sum().item()  # Número total de píxeles correctamente clasificados\n",
    "\n",
    "    accuracy = round((correct / total)*100,2)  # Precisión del modelo\n",
    "\n",
    "    \n",
    "    return accuracy"
   ]
  },
  {
   "cell_type": "code",
   "execution_count": null,
   "id": "3ded5b74-d331-450f-92b9-9414e00388f2",
   "metadata": {},
   "outputs": [],
   "source": []
  },
  {
   "cell_type": "code",
   "execution_count": null,
   "id": "8ff0a124-43f4-4d8f-b76d-77c8c53408aa",
   "metadata": {},
   "outputs": [],
   "source": []
  }
 ],
 "metadata": {
  "kernelspec": {
   "display_name": "Python 3 (ipykernel)",
   "language": "python",
   "name": "python3"
  },
  "language_info": {
   "codemirror_mode": {
    "name": "ipython",
    "version": 3
   },
   "file_extension": ".py",
   "mimetype": "text/x-python",
   "name": "python",
   "nbconvert_exporter": "python",
   "pygments_lexer": "ipython3",
   "version": "3.11.5"
  }
 },
 "nbformat": 4,
 "nbformat_minor": 5
}
