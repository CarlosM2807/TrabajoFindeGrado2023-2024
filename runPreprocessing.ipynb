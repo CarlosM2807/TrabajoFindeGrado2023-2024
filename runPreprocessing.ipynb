{
 "cells": [
  {
   "cell_type": "markdown",
   "id": "db42582c-d433-4178-9285-0a326b057dfd",
   "metadata": {},
   "source": [
    "### Archivo con el que se realiza el preprocesamiento de las imágenes y Data Augmentation"
   ]
  },
  {
   "cell_type": "code",
   "execution_count": 12,
   "id": "12cedde6-64c4-44c7-9836-c2684ba2afe4",
   "metadata": {
    "tags": []
   },
   "outputs": [],
   "source": [
    "%run fuctions_preprocessing.ipynb"
   ]
  },
  {
   "cell_type": "code",
   "execution_count": 13,
   "id": "7b5b43dd-1d07-4f7e-a64a-d9e6cbde8838",
   "metadata": {
    "tags": []
   },
   "outputs": [],
   "source": [
    "import numpy as np\n",
    "import random"
   ]
  },
  {
   "cell_type": "code",
   "execution_count": 14,
   "id": "b4ea95ac-31e6-4dd7-b4fb-f472021148c4",
   "metadata": {},
   "outputs": [],
   "source": [
    "total = 400\n",
    "\n",
    "# 25% para test, 75% para train\n",
    "train_len = int(total*0.75)\n",
    "test_len = int(total*0.25)\n",
    "\n",
    "# Lista de todos los posibles índices\n",
    "all_indices = list(range(400))\n",
    "\n",
    "# Selecciona aleatoriamente 300 índices para el entrenamiento\n",
    "idx_train = random.sample(all_indices, train_len)\n",
    "\n",
    "# Elimina los índices de entrenamiento de la lista de todos los índices\n",
    "for idx in idx_train:\n",
    "    all_indices.remove(idx)\n",
    "\n",
    "# Selecciona aleatoriamente 100 índices para la prueba de los índices restantes\n",
    "idx_test = random.sample(all_indices, test_len)"
   ]
  },
  {
   "cell_type": "code",
   "execution_count": 15,
   "id": "eb833024-aa3b-40d3-83bd-75586ed5f57a",
   "metadata": {},
   "outputs": [
    {
     "data": {
      "text/plain": [
       "(300, 100)"
      ]
     },
     "execution_count": 15,
     "metadata": {},
     "output_type": "execute_result"
    }
   ],
   "source": [
    "# Reparto de las imágenes originales\n",
    "len(idx_train), len(idx_test)"
   ]
  },
  {
   "cell_type": "code",
   "execution_count": 16,
   "id": "46114fe4-b13c-4f34-a5c4-ef8b9d7e7641",
   "metadata": {},
   "outputs": [
    {
     "name": "stdout",
     "output_type": "stream",
     "text": [
      "Conjuntos de indices generados correctamente.\n"
     ]
    }
   ],
   "source": [
    "idx_train_set = set(idx_train)\n",
    "idx_test_set = set(idx_test)\n",
    "\n",
    "# Asegurarse de que los índices para el entrenamiento y la prueba sean exclusivos\n",
    "if len(idx_train_set.intersection(idx_test_set)) != 0:\n",
    "    print(\"Error: los índices de entrenamiento y prueba se superponen.\")\n",
    "else:\n",
    "    print(\"Conjuntos de indices generados correctamente.\")"
   ]
  },
  {
   "cell_type": "code",
   "execution_count": 17,
   "id": "21e0ec87-116a-4b95-8f86-714a478e2a44",
   "metadata": {},
   "outputs": [],
   "source": [
    "# Mapeo de los pixeles, con dos diccionarios, para evitar la superposiccion de valores entre los pixeles\n",
    "map_pixels_intermediate = {\n",
    "    0: 24, 6: 24, 10: 24, 11: 24, 12: 24, 13: 24, 14: 24, 21: 24, 22: 24, 23: 24,\n",
    "    5: 25, 7: 25,\n",
    "    2: 26, 3: 26, 8: 26, 19:26,20:26,\n",
    "    15:27,16:27,17:27,18:27,\n",
    "    1:28,4:28,9:28\n",
    "}\n",
    "\n",
    "map_pixels_final = {\n",
    "    24:0,\n",
    "    25:1,\n",
    "    26:2,\n",
    "    27:3,\n",
    "    28:4\n",
    "}"
   ]
  },
  {
   "cell_type": "markdown",
   "id": "75adce8b-57c0-46ba-9dca-5fb597394b6a",
   "metadata": {},
   "source": [
    "# Rename"
   ]
  },
  {
   "cell_type": "code",
   "execution_count": 18,
   "id": "42037f5e-3115-4ecb-b3c1-b457c2b3cd5a",
   "metadata": {},
   "outputs": [],
   "source": [
    "# Rutas de origen y destino\n",
    "carpeta_origen = \"Dataset/semantic_drone_dataset/semantic_drone_dataset/label_images_semantic\"\n",
    "carpeta_destino = \"Procesados/semantic_drone_dataset/label_images_semantic\"\n",
    "\n",
    "carpeta_origen2 = \"Dataset/semantic_drone_dataset/semantic_drone_dataset/original_images\"\n",
    "carpeta_destino2 = \"Procesados/semantic_drone_dataset/original_images\""
   ]
  },
  {
   "cell_type": "markdown",
   "id": "f13dedd7-2928-4deb-a821-c2afd7a8c352",
   "metadata": {},
   "source": [
    "### Renombramos máscaras"
   ]
  },
  {
   "cell_type": "code",
   "execution_count": 19,
   "id": "37edb95b-2c39-4dbf-b8f6-0deede9f67f3",
   "metadata": {},
   "outputs": [
    {
     "name": "stdout",
     "output_type": "stream",
     "text": [
      "Imágenes renombradas y copiadas exitosamente.\n"
     ]
    }
   ],
   "source": [
    "rename_img(carpeta_origen,carpeta_destino)"
   ]
  },
  {
   "cell_type": "markdown",
   "id": "5786d1a2-2280-41b3-8de4-ac3e552d53f0",
   "metadata": {},
   "source": [
    "### Renombramos imágenes"
   ]
  },
  {
   "cell_type": "code",
   "execution_count": 20,
   "id": "e0038466-740f-4702-a2a6-b7db50e9881c",
   "metadata": {},
   "outputs": [
    {
     "name": "stdout",
     "output_type": "stream",
     "text": [
      "Imágenes renombradas y copiadas exitosamente.\n"
     ]
    }
   ],
   "source": [
    "rename_img(carpeta_origen2,carpeta_destino2)"
   ]
  },
  {
   "cell_type": "markdown",
   "id": "184244f8-2938-4485-a813-3b4b912cc055",
   "metadata": {},
   "source": [
    "# Resize and remap"
   ]
  },
  {
   "cell_type": "code",
   "execution_count": 21,
   "id": "15d6a729-14d7-4c14-8773-5aa1954f9810",
   "metadata": {},
   "outputs": [],
   "source": [
    "# Rutas de origen y destino\n",
    "\n",
    "dest_train_images = \"Definitivas/semantic_drone_dataset/train_imgs/original_images\"\n",
    "dest_train_label = \"Definitivas/semantic_drone_dataset/train_imgs/label_images_semantic\"\n",
    "\n",
    "dest_test_images = \"Definitivas/semantic_drone_dataset/test_imgs/original_images\"\n",
    "dest_test_label = \"Definitivas/semantic_drone_dataset/test_imgs/label_images_semantic\""
   ]
  },
  {
   "cell_type": "markdown",
   "id": "c9a87d6e-e72f-4d9b-81ed-7f6faca45ac7",
   "metadata": {},
   "source": [
    "## Transformación"
   ]
  },
  {
   "cell_type": "code",
   "execution_count": 22,
   "id": "bc1e7e33-37fd-4337-8c39-f4862c74e5c8",
   "metadata": {},
   "outputs": [],
   "source": [
    "process_images(carpeta_destino2, carpeta_destino, idx_train, idx_test, dest_train_images, dest_train_label, dest_test_images, dest_test_label,map_pixels_intermediate,map_pixels_final)"
   ]
  },
  {
   "cell_type": "markdown",
   "id": "4ddf9225-4b4a-4643-a453-fb19feb7715d",
   "metadata": {},
   "source": [
    "# Data Augmentation"
   ]
  },
  {
   "cell_type": "code",
   "execution_count": 23,
   "id": "e0f2ccbb-c6c9-4131-bed0-a8e29b65f461",
   "metadata": {},
   "outputs": [],
   "source": [
    "transform_images(dest_train_images, False)"
   ]
  },
  {
   "cell_type": "code",
   "execution_count": 24,
   "id": "da0d5649-3e1d-4646-a480-54efc750e5a8",
   "metadata": {},
   "outputs": [],
   "source": [
    "transform_images(dest_train_label, True)"
   ]
  },
  {
   "cell_type": "code",
   "execution_count": 25,
   "id": "5bcaceb7-76dc-483d-b415-426a90622d0d",
   "metadata": {},
   "outputs": [],
   "source": [
    "transform_images(dest_test_images, False)"
   ]
  },
  {
   "cell_type": "code",
   "execution_count": 26,
   "id": "b105227b-67ca-40cb-8db8-c327dd7d42cb",
   "metadata": {},
   "outputs": [],
   "source": [
    "transform_images(dest_test_label, True)"
   ]
  },
  {
   "cell_type": "code",
   "execution_count": 27,
   "id": "4ad4fd25-a3a5-4c6a-9eee-cb649cd7c6c8",
   "metadata": {},
   "outputs": [
    {
     "name": "stdout",
     "output_type": "stream",
     "text": [
      "Las máscaras e imagenes de train tienen correlación:  True\n"
     ]
    }
   ],
   "source": [
    "igual = compare_mask_img(dest_train_images, dest_train_label)\n",
    "print(\"Las máscaras e imagenes de train tienen correlación: \", igual)"
   ]
  },
  {
   "cell_type": "code",
   "execution_count": 28,
   "id": "2b4ede1a-91e8-4a77-b462-1df41ff0ed5f",
   "metadata": {},
   "outputs": [
    {
     "name": "stdout",
     "output_type": "stream",
     "text": [
      "Las máscaras e imagenes de test tienen correlación:  True\n"
     ]
    }
   ],
   "source": [
    "igual = compare_mask_img(dest_test_images, dest_test_label)\n",
    "print(\"Las máscaras e imagenes de test tienen correlación: \", igual)"
   ]
  }
 ],
 "metadata": {
  "kernelspec": {
   "display_name": "Python 3 (ipykernel)",
   "language": "python",
   "name": "python3"
  },
  "language_info": {
   "codemirror_mode": {
    "name": "ipython",
    "version": 3
   },
   "file_extension": ".py",
   "mimetype": "text/x-python",
   "name": "python",
   "nbconvert_exporter": "python",
   "pygments_lexer": "ipython3",
   "version": "3.11.5"
  }
 },
 "nbformat": 4,
 "nbformat_minor": 5
}
