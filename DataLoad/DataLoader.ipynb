{
 "cells": [
  {
   "cell_type": "code",
   "execution_count": 1,
   "id": "d1e45c48-5079-4903-b4bb-1a4427dbc59f",
   "metadata": {
    "tags": []
   },
   "outputs": [],
   "source": [
    "import os\n",
    "import numpy as np\n",
    "from PIL import Image\n",
    "import torch.nn as nn\n",
    "import torch\n",
    "from torch.utils.data import Dataset\n",
    "from torchvision.transforms import ToTensor"
   ]
  },
  {
   "cell_type": "code",
   "execution_count": 2,
   "id": "36ecdc27-714e-428f-ae6c-327cfa516af8",
   "metadata": {},
   "outputs": [],
   "source": [
    "class UNetDataset(Dataset):\n",
    "    def __init__(self, img_dir, mask_dir):\n",
    "        self.img_dir = img_dir\n",
    "        self.mask_dir = mask_dir\n",
    "        self.to_tensor = ToTensor()\n",
    "        \n",
    "        # Lista con todos los nombres de los archivos\n",
    "        # Los nombres de las imagenes y de Ground Truth coinciden\n",
    "        self.images = os.listdir(img_dir)\n",
    "\n",
    "    def __len__(self):\n",
    "        return len(self.images)\n",
    "\n",
    "    def __getitem__(self, idx):\n",
    "        \n",
    "        # Generamos la ruta exacta a cada una de las imagenes\n",
    "        img_path = os.path.join(self.img_dir, self.images[idx])\n",
    "        mask_path = os.path.join(self.mask_dir, self.images[idx])\n",
    "        \n",
    "        # Abrimos las imagenes\n",
    "        image = np.array(Image.open(img_path).convert(\"RGB\")) / 255.0\n",
    "        mask = np.array(Image.open(mask_path).convert(\"L\"), dtype=np.int32)\n",
    "\n",
    "        # Aplicarmos la transformación ToTensor para convertir en tensores\n",
    "        image = self.to_tensor(image)\n",
    "        mask = self.to_tensor(mask)\n",
    "        \n",
    "        # Transformaciones\n",
    "        image = image.permute(1, 2, 0)\n",
    "        mask = mask.squeeze(0)\n",
    "\n",
    "        return image, mask"
   ]
  },
  {
   "cell_type": "code",
   "execution_count": null,
   "id": "0b1874d9-d00e-45f0-8697-175133fb6caf",
   "metadata": {},
   "outputs": [],
   "source": []
  }
 ],
 "metadata": {
  "kernelspec": {
   "display_name": "Python 3 (ipykernel)",
   "language": "python",
   "name": "python3"
  },
  "language_info": {
   "codemirror_mode": {
    "name": "ipython",
    "version": 3
   },
   "file_extension": ".py",
   "mimetype": "text/x-python",
   "name": "python",
   "nbconvert_exporter": "python",
   "pygments_lexer": "ipython3",
   "version": "3.11.5"
  }
 },
 "nbformat": 4,
 "nbformat_minor": 5
}
