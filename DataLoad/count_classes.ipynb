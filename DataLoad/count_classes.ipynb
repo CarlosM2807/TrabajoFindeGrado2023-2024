{
 "cells": [
  {
   "cell_type": "code",
   "execution_count": 1,
   "id": "bc484ef4-3d69-4dea-a59f-fd451d030219",
   "metadata": {
    "tags": []
   },
   "outputs": [],
   "source": [
    "import torch"
   ]
  },
  {
   "cell_type": "code",
   "execution_count": 2,
   "id": "6b7752ed-37b7-4f52-888f-16fec5b75c78",
   "metadata": {
    "tags": []
   },
   "outputs": [],
   "source": [
    "# Función para el conteo de las clases en las imágenes \n",
    "def contar_pixeles(loader, tam_lote):\n",
    "    conteo_clases = [0, 0, 0, 0, 0]\n",
    "    total_imagenes = len(loader)*tam_lote\n",
    "    \n",
    "    # Realizamos el conteo en las imagenes Ground Truth\n",
    "    for _, mascaras in loader:\n",
    "        for i in range(5):\n",
    "            # Contamos cuantas imagenes del conjunto tienen al menos 200 pixeles de cada una de las clases\n",
    "            # 1. Generamos un ¡tensor booleano\n",
    "            # 2. Contamos los trues (pixeles que son de esa clase) y si supera 200, suma 1\n",
    "            conteo_clases[i] += torch.sum((mascaras == i).sum(dim=(1,2)) >= 200).item()\n",
    "\n",
    "    # Calculamos el porcentaje de cada una de las clases y lo almacenamos en porcentaje_clases\n",
    "    porcentaje_clases = [round(conteo / total_imagenes * 100,2) for conteo in conteo_clases]\n",
    "    return conteo_clases, porcentaje_clases, total_imagenes"
   ]
  },
  {
   "cell_type": "code",
   "execution_count": null,
   "id": "4c17a301-7cf8-40bc-8698-e31e5f3dad97",
   "metadata": {},
   "outputs": [],
   "source": []
  }
 ],
 "metadata": {
  "kernelspec": {
   "display_name": "Python 3 (ipykernel)",
   "language": "python",
   "name": "python3"
  },
  "language_info": {
   "codemirror_mode": {
    "name": "ipython",
    "version": 3
   },
   "file_extension": ".py",
   "mimetype": "text/x-python",
   "name": "python",
   "nbconvert_exporter": "python",
   "pygments_lexer": "ipython3",
   "version": "3.11.5"
  }
 },
 "nbformat": 4,
 "nbformat_minor": 5
}
