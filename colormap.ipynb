{
 "cells": [
  {
   "cell_type": "code",
   "execution_count": 1,
   "id": "b6eee153-4dc0-4be9-aad1-cfd49da0e83e",
   "metadata": {
    "tags": []
   },
   "outputs": [],
   "source": [
    "# Define el mapeo de clases a colores\n",
    "class_colors = {\n",
    "    0: [155, 38, 182],\n",
    "    1: [14, 135, 204],\n",
    "    2: [124, 252, 0],\n",
    "    3: [255, 20, 147],\n",
    "    4: [169, 169, 169]\n",
    "}"
   ]
  },
  {
   "cell_type": "code",
   "execution_count": 2,
   "id": "10ec0861-3850-4215-bfbd-e70f8e77891e",
   "metadata": {
    "tags": []
   },
   "outputs": [],
   "source": [
    "# Nombres de las clases\n",
    "clases = [\"Obstáculos\",\"Agua\",\"Vegetación\",\"Movimiento\",\"Zona Aterrizable\"]"
   ]
  }
 ],
 "metadata": {
  "kernelspec": {
   "display_name": "Python 3 (ipykernel)",
   "language": "python",
   "name": "python3"
  },
  "language_info": {
   "codemirror_mode": {
    "name": "ipython",
    "version": 3
   },
   "file_extension": ".py",
   "mimetype": "text/x-python",
   "name": "python",
   "nbconvert_exporter": "python",
   "pygments_lexer": "ipython3",
   "version": "3.11.5"
  }
 },
 "nbformat": 4,
 "nbformat_minor": 5
}
