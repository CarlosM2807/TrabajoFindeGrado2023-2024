{
 "cells": [
  {
   "cell_type": "code",
   "execution_count": 1,
   "id": "d40d1e2b-e357-4fb5-80b0-88c7079647aa",
   "metadata": {
    "tags": []
   },
   "outputs": [],
   "source": [
    "import torch.nn as nn\n",
    "import torch\n",
    "import gc\n",
    "\n",
    "# Paquete de optimizadores\n",
    "import torch.optim as optim\n",
    "\n",
    "from sklearn.metrics import accuracy_score"
   ]
  },
  {
   "cell_type": "code",
   "execution_count": 2,
   "id": "fb4961f4-c9fa-4950-a19b-bd959b6a83b1",
   "metadata": {},
   "outputs": [],
   "source": [
    "# Realiza el entrenamiento de una epoca\n",
    "# Argumentos:\n",
    "#       - model: modelo que queremos entrenar\n",
    "#       - train_dataloader: lotes de entrenamiento\n",
    "#       - optm: optimizador del modelo empleado\n",
    "#       - loss_criterion: define la funcion de perdida\n",
    "#       - device: cpu o cuda, define si el entrenamiento se hace en la cpu o gpu\n",
    "\n",
    "\n",
    "def train_unet(model, train_dataloader, optm, loss_criterion, device):\n",
    "    \n",
    "    # Lista para las perdidas de cada época\n",
    "    train_loss = []\n",
    "    \n",
    "    # Para calcular la precisión\n",
    "    correct = 0\n",
    "    total = 0\n",
    "    \n",
    "    # Modo de entrenamiento del modelo\n",
    "    model.train()\n",
    "    \n",
    "    # Iteramos sobre los lotes de train\n",
    "    for images, masks in train_dataloader:\n",
    "        \n",
    "        # Permutamos las dimensiones de las imágenes a (N, C, H, W)\n",
    "        images = images.permute(0, 3, 1, 2)\n",
    "        \n",
    "        # Movemos al device las imagenes y las Ground Truth\n",
    "        images = images.to(device, dtype=torch.float)\n",
    "        masks = masks.to(device, dtype=torch.long)\n",
    "        \n",
    "        # El modelo realiza la inferencia para las imagenes del lote\n",
    "        outputs = model(images)\n",
    "        \n",
    "        # Calculamos la pérdida\n",
    "        loss = loss_criterion(outputs, masks)\n",
    "        \n",
    "        # Limpiamos los gradientes del optimizador\n",
    "        optm.zero_grad()\n",
    "        \n",
    "        # Retropropagación y actualizamos los pesos del modelo\n",
    "        loss.backward()\n",
    "        optm.step()\n",
    "  \n",
    "        # predicted --> tensor que contiene la clase predicha con la mayor probabilidad para cada píxel en la salida del modelo\n",
    "        _, predicted = torch.max(outputs.data, 1)\n",
    "        \n",
    "        total += masks.nelement()  # Número total de píxeles en la máscara\n",
    "        \n",
    "        # eq: compara elemento a elemento la prediccion con los valores reales de la imagen Ground Truth. generando un tensor de booleanos\n",
    "        # sum: suma los elementos true del tensor, es decir, los aciertos\n",
    "        correct += predicted.eq(masks.data).sum().item() \n",
    "        \n",
    "        # Liberamos memoria\n",
    "        del images, masks\n",
    "        gc.collect()\n",
    "        \n",
    "        # Añadimos la prdida a la lista\n",
    "        train_loss.append(loss.item())\n",
    "\n",
    "    # Precisión del modelo\n",
    "    accuracy = round((correct / total)*100,2)  \n",
    "    \n",
    "    return train_loss, accuracy"
   ]
  },
  {
   "cell_type": "code",
   "execution_count": null,
   "id": "e4e5d493-31e2-4353-896e-6d7ecc2eca04",
   "metadata": {},
   "outputs": [],
   "source": []
  }
 ],
 "metadata": {
  "kernelspec": {
   "display_name": "Python 3 (ipykernel)",
   "language": "python",
   "name": "python3"
  },
  "language_info": {
   "codemirror_mode": {
    "name": "ipython",
    "version": 3
   },
   "file_extension": ".py",
   "mimetype": "text/x-python",
   "name": "python",
   "nbconvert_exporter": "python",
   "pygments_lexer": "ipython3",
   "version": "3.11.5"
  }
 },
 "nbformat": 4,
 "nbformat_minor": 5
}
