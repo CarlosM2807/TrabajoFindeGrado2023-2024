{
 "cells": [
  {
   "cell_type": "code",
   "execution_count": 7,
   "id": "d40d1e2b-e357-4fb5-80b0-88c7079647aa",
   "metadata": {
    "tags": []
   },
   "outputs": [],
   "source": [
    "import torch.nn as nn\n",
    "import torch\n",
    "\n",
    "# Paquete de optimizadores\n",
    "import torch.optim as optim\n",
    "\n",
    "from sklearn.metrics import accuracy_score"
   ]
  },
  {
   "cell_type": "code",
   "execution_count": 8,
   "id": "fb4961f4-c9fa-4950-a19b-bd959b6a83b1",
   "metadata": {},
   "outputs": [],
   "source": [
    "def train_unet(model, train_dataloader, optm, loss_criterion, device):\n",
    "    \n",
    "    # Modo de entrenamiento del modelo\n",
    "    model.train()\n",
    "    \n",
    "    # Lista para las perdidas de cada lote\n",
    "    losses_epoch = []\n",
    "    \n",
    "    # Para cada imagen y mascara del conjunto\n",
    "    for images, masks in train_dataloader:\n",
    "        \n",
    "        # Permuta las dimensiones de las imágenes a (N, C, H, W)\n",
    "        images = images.permute(0, 3, 1, 2)\n",
    "        \n",
    "        images, masks = images.to(device, dtype=torch.float), masks.to(device,  dtype=torch.long)\n",
    "\n",
    "        # Realiza la inferencia\n",
    "        outputs = model(images)\n",
    "        \n",
    "        # Calcula la pérdida\n",
    "        loss = loss_criterion(outputs, masks)\n",
    "        \n",
    "        # Limpia los gradientes del optimizador\n",
    "        optm.zero_grad()\n",
    "        \n",
    "        # Realiza la retropropagación y actualiza los pesos del modelo\n",
    "        loss.backward()\n",
    "        optm.step()\n",
    "        \n",
    "        # Liberamos memoria\n",
    "        del images, masks\n",
    "        \n",
    "        losses_epoch.append(loss.item())\n",
    "    \n",
    "    return losses_epoch"
   ]
  },
  {
   "cell_type": "code",
   "execution_count": null,
   "id": "e4e5d493-31e2-4353-896e-6d7ecc2eca04",
   "metadata": {},
   "outputs": [],
   "source": []
  }
 ],
 "metadata": {
  "kernelspec": {
   "display_name": "Python 3 (ipykernel)",
   "language": "python",
   "name": "python3"
  },
  "language_info": {
   "codemirror_mode": {
    "name": "ipython",
    "version": 3
   },
   "file_extension": ".py",
   "mimetype": "text/x-python",
   "name": "python",
   "nbconvert_exporter": "python",
   "pygments_lexer": "ipython3",
   "version": "3.11.5"
  }
 },
 "nbformat": 4,
 "nbformat_minor": 5
}
