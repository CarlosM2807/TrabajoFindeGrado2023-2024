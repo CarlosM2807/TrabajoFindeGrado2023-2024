{
 "cells": [
  {
   "cell_type": "code",
   "execution_count": 1,
   "id": "0bb286b1-06fe-4b66-8e0c-70a60d406950",
   "metadata": {
    "tags": []
   },
   "outputs": [],
   "source": [
    "import torch.nn as nn\n",
    "import torch.optim as optim"
   ]
  },
  {
   "cell_type": "markdown",
   "id": "e4068df6-28cf-44db-8d10-fd1504d2e6ec",
   "metadata": {},
   "source": [
    "### Este archivo ipynb contiene todos los parámetros necesarios para el entrenamiento del modelo"
   ]
  },
  {
   "cell_type": "code",
   "execution_count": 2,
   "id": "26819b61-9f86-46d2-9928-fcad7828f591",
   "metadata": {
    "tags": []
   },
   "outputs": [],
   "source": [
    "tipo_train = 0"
   ]
  },
  {
   "cell_type": "code",
   "execution_count": 3,
   "id": "bd11fe76-9616-4538-bf68-1f883c057884",
   "metadata": {
    "tags": []
   },
   "outputs": [],
   "source": [
    "if tipo_train == 0:\n",
    "    \n",
    "    tam_lote = 22   # Tamaño del lote\n",
    "    epochs = 32     # Nº épocas\n",
    "    stop = 7        # Nº iteraciones sin mejora para que pare\n",
    "    \n",
    "    learning_rate = 0.001      # Tasa de aprendizaje\n",
    "\n",
    "    loss_crit = nn.CrossEntropyLoss()    # Función de perdida\n",
    "\n",
    "else: \n",
    "    \n",
    "    tam_lote = 32   # Tamaño del lote\n",
    "    epochs = 35     # Nº épocas\n",
    "    stop = 8        # Nº iteraciones sin mejora para que pare\n",
    "\n",
    "    learning_rate = 0.001      # Tasa de aprendizaje\n",
    "\n",
    "    loss_crit = nn.CrossEntropyLoss()    # Función de perdida\n",
    "    \n",
    "    # A futuro cargar el modelo y pasar aqui el optimizador\n",
    "    # optm = optim.Adam(unet_model.parameters(), lr=0.001)  # Optimizador\n"
   ]
  }
 ],
 "metadata": {
  "kernelspec": {
   "display_name": "Python 3 (ipykernel)",
   "language": "python",
   "name": "python3"
  },
  "language_info": {
   "codemirror_mode": {
    "name": "ipython",
    "version": 3
   },
   "file_extension": ".py",
   "mimetype": "text/x-python",
   "name": "python",
   "nbconvert_exporter": "python",
   "pygments_lexer": "ipython3",
   "version": "3.11.5"
  }
 },
 "nbformat": 4,
 "nbformat_minor": 5
}
