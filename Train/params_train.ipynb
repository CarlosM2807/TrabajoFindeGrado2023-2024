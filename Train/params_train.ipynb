{
 "cells": [
  {
   "cell_type": "code",
   "execution_count": 1,
   "id": "0bb286b1-06fe-4b66-8e0c-70a60d406950",
   "metadata": {
    "tags": []
   },
   "outputs": [],
   "source": [
    "import torch.nn as nn\n",
    "import torch.optim as optim\n",
    "import sys\n",
    "import nbimporter"
   ]
  },
  {
   "cell_type": "markdown",
   "id": "e4068df6-28cf-44db-8d10-fd1504d2e6ec",
   "metadata": {},
   "source": [
    "### Este archivo ipynb contiene todos los parámetros necesarios para el entrenamiento del modelo"
   ]
  },
  {
   "cell_type": "markdown",
   "id": "2f287c74-2231-4d57-86c5-bb3537d89285",
   "metadata": {},
   "source": [
    "## Parámetros train"
   ]
  },
  {
   "cell_type": "code",
   "execution_count": 2,
   "id": "bd11fe76-9616-4538-bf68-1f883c057884",
   "metadata": {
    "tags": []
   },
   "outputs": [],
   "source": [
    "# Tamaño del lote\n",
    "tam_lote = 16   # Tamaño del lote\n",
    "\n",
    "# Nº de epocas\n",
    "epochs = 40     # Nº épocas\n",
    "\n",
    "# Nº iteraciones sin mejora hasta que pare\n",
    "stop = 8       \n",
    "\n",
    "\n",
    "# Tasa de aprendizaje\n",
    "learning_rate = 0.001 \n",
    "\n",
    "# Función de perdida\n",
    "loss_crit = nn.CrossEntropyLoss()   "
   ]
  },
  {
   "cell_type": "code",
   "execution_count": null,
   "id": "63f0a449-2515-4499-b077-a28103f0bacf",
   "metadata": {},
   "outputs": [],
   "source": []
  },
  {
   "cell_type": "code",
   "execution_count": null,
   "id": "455f097c-ef29-4414-9c28-d3e6a7585ddc",
   "metadata": {},
   "outputs": [],
   "source": []
  }
 ],
 "metadata": {
  "kernelspec": {
   "display_name": "Python 3 (ipykernel)",
   "language": "python",
   "name": "python3"
  },
  "language_info": {
   "codemirror_mode": {
    "name": "ipython",
    "version": 3
   },
   "file_extension": ".py",
   "mimetype": "text/x-python",
   "name": "python",
   "nbconvert_exporter": "python",
   "pygments_lexer": "ipython3",
   "version": "3.11.5"
  }
 },
 "nbformat": 4,
 "nbformat_minor": 5
}
